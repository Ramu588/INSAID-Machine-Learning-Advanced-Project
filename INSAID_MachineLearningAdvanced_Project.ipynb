{
 "cells": [
  {
   "cell_type": "markdown",
   "id": "38be1cb3",
   "metadata": {},
   "source": [
    "# <center><img src=\"https://github.com/insaid2018/Term-1/blob/master/Images/INSAID_Full%20Logo.png?raw=true\" width=\"240\" height=\"100\" /></center>\n",
    "\n",
    "\n",
    "## **<center>Machine Learning Advanced: CONCRETE COMPRESSIVE STRENGHT PREDICTION</center>**"
   ]
  },
  {
   "cell_type": "markdown",
   "id": "9a01ac53",
   "metadata": {},
   "source": [
    "<a name = Section2></a>\n",
    "# **Problem Statement**\n",
    "---\n",
    "\n",
    "The current process suffers from the following problems:\n",
    "\n",
    "- The company is under a time crunch to test the compressive strength of the concrete to release in the market.\n",
    "\n",
    "- Previously they were using manual methods to test the compressive strength of the concrete which is very time-consuming and inefficient."
   ]
  },
  {
   "cell_type": "markdown",
   "id": "ff484956",
   "metadata": {},
   "source": [
    "### Importing all required libraries"
   ]
  },
  {
   "cell_type": "code",
   "execution_count": 35,
   "id": "e66bb4c2",
   "metadata": {},
   "outputs": [],
   "source": [
    "import numpy as np\n",
    "import pandas as pd\n",
    "import matplotlib.pyplot as plt\n",
    "import seaborn as sns\n",
    "%matplotlib inline\n",
    "\n",
    "import warnings\n",
    "warnings.filterwarnings('ignore')\n",
    "\n",
    "from sklearn.model_selection import cross_val_score,train_test_split\n",
    "from sklearn.preprocessing import StandardScaler\n",
    "\n",
    "from sklearn.linear_model import LinearRegression\n",
    "from sklearn.tree import DecisionTreeRegressor\n",
    "from sklearn.ensemble import RandomForestRegressor\n",
    "from sklearn.svm import SVR\n",
    "from sklearn.neighbors import KNeighborsRegressor\n",
    "from sklearn.metrics import mean_squared_error,mean_absolute_error,r2_score\n",
    "from sklearn import metrics"
   ]
  },
  {
   "cell_type": "markdown",
   "id": "1b13cf66",
   "metadata": {},
   "source": [
    "### Dataset Feature Description\n",
    "The Dataset contains the following columns:"
   ]
  },
  {
   "cell_type": "markdown",
   "id": "f269f471",
   "metadata": {},
   "source": [
    "||Column Name|Description|\n",
    "|:--|:--|:--|\n",
    "||**Id**| Unique identity of each observation. |\n",
    "||**cement**| Quantity of cement in the mixture in kg(kilogram). |\n",
    "||**slag**| Quantity of cement in the mixture in kg(kilogram). |\n",
    "||**Flyash**| Quantity of fly ash in the mixture in kg(kilogram). |\n",
    "||**water**| Quantity of water in the mixture in kg(kilogram).|\n",
    "||**superplasticizer**| Quantity of superplasticizer in the mixture in kg(kilogram). |\n",
    "||**coarseaggregate**| Quantity of coarse aggregate in the mixture in kg(kilogram). |\n",
    "||**fineaggregate**| Quantity of fine aggregate in the mixture in kg(kilogram). |\n",
    "||**age**| Age of the mixture in days.|\n",
    "||**csMPa**| compressive strength of concrete in MPa(dependent variable).|"
   ]
  },
  {
   "cell_type": "code",
   "execution_count": 3,
   "id": "ec9901da",
   "metadata": {},
   "outputs": [
    {
     "data": {
      "text/html": [
       "<div>\n",
       "<style scoped>\n",
       "    .dataframe tbody tr th:only-of-type {\n",
       "        vertical-align: middle;\n",
       "    }\n",
       "\n",
       "    .dataframe tbody tr th {\n",
       "        vertical-align: top;\n",
       "    }\n",
       "\n",
       "    .dataframe thead th {\n",
       "        text-align: right;\n",
       "    }\n",
       "</style>\n",
       "<table border=\"1\" class=\"dataframe\">\n",
       "  <thead>\n",
       "    <tr style=\"text-align: right;\">\n",
       "      <th></th>\n",
       "      <th>Id</th>\n",
       "      <th>cement</th>\n",
       "      <th>slag</th>\n",
       "      <th>flyash</th>\n",
       "      <th>water</th>\n",
       "      <th>superplasticizer</th>\n",
       "      <th>coarseaggregate</th>\n",
       "      <th>fineaggregate</th>\n",
       "      <th>age</th>\n",
       "      <th>csMPa</th>\n",
       "    </tr>\n",
       "  </thead>\n",
       "  <tbody>\n",
       "    <tr>\n",
       "      <th>0</th>\n",
       "      <td>995</td>\n",
       "      <td>158.6</td>\n",
       "      <td>148.9</td>\n",
       "      <td>116.0</td>\n",
       "      <td>175.1</td>\n",
       "      <td>15.0</td>\n",
       "      <td>953.3</td>\n",
       "      <td>719.7</td>\n",
       "      <td>28</td>\n",
       "      <td>27.68</td>\n",
       "    </tr>\n",
       "    <tr>\n",
       "      <th>1</th>\n",
       "      <td>507</td>\n",
       "      <td>424.0</td>\n",
       "      <td>22.0</td>\n",
       "      <td>132.0</td>\n",
       "      <td>178.0</td>\n",
       "      <td>8.5</td>\n",
       "      <td>822.0</td>\n",
       "      <td>750.0</td>\n",
       "      <td>28</td>\n",
       "      <td>62.05</td>\n",
       "    </tr>\n",
       "    <tr>\n",
       "      <th>2</th>\n",
       "      <td>334</td>\n",
       "      <td>275.1</td>\n",
       "      <td>0.0</td>\n",
       "      <td>121.4</td>\n",
       "      <td>159.5</td>\n",
       "      <td>9.9</td>\n",
       "      <td>1053.6</td>\n",
       "      <td>777.5</td>\n",
       "      <td>3</td>\n",
       "      <td>23.80</td>\n",
       "    </tr>\n",
       "    <tr>\n",
       "      <th>3</th>\n",
       "      <td>848</td>\n",
       "      <td>252.0</td>\n",
       "      <td>97.0</td>\n",
       "      <td>76.0</td>\n",
       "      <td>194.0</td>\n",
       "      <td>8.0</td>\n",
       "      <td>835.0</td>\n",
       "      <td>821.0</td>\n",
       "      <td>28</td>\n",
       "      <td>33.40</td>\n",
       "    </tr>\n",
       "    <tr>\n",
       "      <th>4</th>\n",
       "      <td>294</td>\n",
       "      <td>168.9</td>\n",
       "      <td>42.2</td>\n",
       "      <td>124.3</td>\n",
       "      <td>158.3</td>\n",
       "      <td>10.8</td>\n",
       "      <td>1080.8</td>\n",
       "      <td>796.2</td>\n",
       "      <td>3</td>\n",
       "      <td>7.40</td>\n",
       "    </tr>\n",
       "  </tbody>\n",
       "</table>\n",
       "</div>"
      ],
      "text/plain": [
       "    Id  cement   slag  flyash  water  superplasticizer  coarseaggregate  \\\n",
       "0  995   158.6  148.9   116.0  175.1              15.0            953.3   \n",
       "1  507   424.0   22.0   132.0  178.0               8.5            822.0   \n",
       "2  334   275.1    0.0   121.4  159.5               9.9           1053.6   \n",
       "3  848   252.0   97.0    76.0  194.0               8.0            835.0   \n",
       "4  294   168.9   42.2   124.3  158.3              10.8           1080.8   \n",
       "\n",
       "   fineaggregate  age  csMPa  \n",
       "0          719.7   28  27.68  \n",
       "1          750.0   28  62.05  \n",
       "2          777.5    3  23.80  \n",
       "3          821.0   28  33.40  \n",
       "4          796.2    3   7.40  "
      ]
     },
     "execution_count": 3,
     "metadata": {},
     "output_type": "execute_result"
    }
   ],
   "source": [
    "train=pd.read_csv('concrete_train.csv')\n",
    "train.head()"
   ]
  },
  {
   "cell_type": "markdown",
   "id": "64ecc2ee",
   "metadata": {},
   "source": [
    "<a name = Section41></a>\n",
    "### **Data Info, Data Description and Null Value Checking**\n",
    "\n",
    "- In this section we will get **description** and **statistics** about the data."
   ]
  },
  {
   "cell_type": "code",
   "execution_count": 4,
   "id": "2170d399",
   "metadata": {},
   "outputs": [
    {
     "name": "stdout",
     "output_type": "stream",
     "text": [
      "<class 'pandas.core.frame.DataFrame'>\n",
      "RangeIndex: 824 entries, 0 to 823\n",
      "Data columns (total 10 columns):\n",
      " #   Column            Non-Null Count  Dtype  \n",
      "---  ------            --------------  -----  \n",
      " 0   Id                824 non-null    int64  \n",
      " 1   cement            824 non-null    float64\n",
      " 2   slag              824 non-null    float64\n",
      " 3   flyash            824 non-null    float64\n",
      " 4   water             824 non-null    float64\n",
      " 5   superplasticizer  824 non-null    float64\n",
      " 6   coarseaggregate   824 non-null    float64\n",
      " 7   fineaggregate     824 non-null    float64\n",
      " 8   age               824 non-null    int64  \n",
      " 9   csMPa             824 non-null    float64\n",
      "dtypes: float64(8), int64(2)\n",
      "memory usage: 64.5 KB\n"
     ]
    }
   ],
   "source": [
    "train.info()"
   ]
  },
  {
   "cell_type": "code",
   "execution_count": 6,
   "id": "a0b19b57",
   "metadata": {},
   "outputs": [
    {
     "data": {
      "text/html": [
       "<div>\n",
       "<style scoped>\n",
       "    .dataframe tbody tr th:only-of-type {\n",
       "        vertical-align: middle;\n",
       "    }\n",
       "\n",
       "    .dataframe tbody tr th {\n",
       "        vertical-align: top;\n",
       "    }\n",
       "\n",
       "    .dataframe thead th {\n",
       "        text-align: right;\n",
       "    }\n",
       "</style>\n",
       "<table border=\"1\" class=\"dataframe\">\n",
       "  <thead>\n",
       "    <tr style=\"text-align: right;\">\n",
       "      <th></th>\n",
       "      <th>Id</th>\n",
       "      <th>cement</th>\n",
       "      <th>slag</th>\n",
       "      <th>flyash</th>\n",
       "      <th>water</th>\n",
       "      <th>superplasticizer</th>\n",
       "      <th>coarseaggregate</th>\n",
       "      <th>fineaggregate</th>\n",
       "      <th>age</th>\n",
       "      <th>csMPa</th>\n",
       "    </tr>\n",
       "  </thead>\n",
       "  <tbody>\n",
       "  </tbody>\n",
       "</table>\n",
       "</div>"
      ],
      "text/plain": [
       "Empty DataFrame\n",
       "Columns: [Id, cement, slag, flyash, water, superplasticizer, coarseaggregate, fineaggregate, age, csMPa]\n",
       "Index: []"
      ]
     },
     "execution_count": 6,
     "metadata": {},
     "output_type": "execute_result"
    }
   ],
   "source": [
    "train[train.duplicated()]"
   ]
  },
  {
   "cell_type": "code",
   "execution_count": 8,
   "id": "773618f3",
   "metadata": {},
   "outputs": [
    {
     "data": {
      "text/html": [
       "<div>\n",
       "<style scoped>\n",
       "    .dataframe tbody tr th:only-of-type {\n",
       "        vertical-align: middle;\n",
       "    }\n",
       "\n",
       "    .dataframe tbody tr th {\n",
       "        vertical-align: top;\n",
       "    }\n",
       "\n",
       "    .dataframe thead th {\n",
       "        text-align: right;\n",
       "    }\n",
       "</style>\n",
       "<table border=\"1\" class=\"dataframe\">\n",
       "  <thead>\n",
       "    <tr style=\"text-align: right;\">\n",
       "      <th></th>\n",
       "      <th>count</th>\n",
       "      <th>mean</th>\n",
       "      <th>std</th>\n",
       "      <th>min</th>\n",
       "      <th>25%</th>\n",
       "      <th>50%</th>\n",
       "      <th>75%</th>\n",
       "      <th>max</th>\n",
       "    </tr>\n",
       "  </thead>\n",
       "  <tbody>\n",
       "    <tr>\n",
       "      <th>Id</th>\n",
       "      <td>824.0</td>\n",
       "      <td>513.847087</td>\n",
       "      <td>296.786779</td>\n",
       "      <td>0.00</td>\n",
       "      <td>251.750</td>\n",
       "      <td>513.50</td>\n",
       "      <td>770.2500</td>\n",
       "      <td>1028.0</td>\n",
       "    </tr>\n",
       "    <tr>\n",
       "      <th>cement</th>\n",
       "      <td>824.0</td>\n",
       "      <td>283.360801</td>\n",
       "      <td>107.536404</td>\n",
       "      <td>102.00</td>\n",
       "      <td>192.000</td>\n",
       "      <td>275.10</td>\n",
       "      <td>359.9000</td>\n",
       "      <td>540.0</td>\n",
       "    </tr>\n",
       "    <tr>\n",
       "      <th>slag</th>\n",
       "      <td>824.0</td>\n",
       "      <td>74.371602</td>\n",
       "      <td>86.977784</td>\n",
       "      <td>0.00</td>\n",
       "      <td>0.000</td>\n",
       "      <td>22.00</td>\n",
       "      <td>144.7750</td>\n",
       "      <td>359.4</td>\n",
       "    </tr>\n",
       "    <tr>\n",
       "      <th>flyash</th>\n",
       "      <td>824.0</td>\n",
       "      <td>53.160801</td>\n",
       "      <td>64.000646</td>\n",
       "      <td>0.00</td>\n",
       "      <td>0.000</td>\n",
       "      <td>0.00</td>\n",
       "      <td>118.3000</td>\n",
       "      <td>195.0</td>\n",
       "    </tr>\n",
       "    <tr>\n",
       "      <th>water</th>\n",
       "      <td>824.0</td>\n",
       "      <td>181.797087</td>\n",
       "      <td>21.321905</td>\n",
       "      <td>121.80</td>\n",
       "      <td>164.900</td>\n",
       "      <td>185.35</td>\n",
       "      <td>192.0000</td>\n",
       "      <td>247.0</td>\n",
       "    </tr>\n",
       "    <tr>\n",
       "      <th>superplasticizer</th>\n",
       "      <td>824.0</td>\n",
       "      <td>6.163956</td>\n",
       "      <td>5.967258</td>\n",
       "      <td>0.00</td>\n",
       "      <td>0.000</td>\n",
       "      <td>6.10</td>\n",
       "      <td>10.1250</td>\n",
       "      <td>32.2</td>\n",
       "    </tr>\n",
       "    <tr>\n",
       "      <th>coarseaggregate</th>\n",
       "      <td>824.0</td>\n",
       "      <td>973.548544</td>\n",
       "      <td>78.694630</td>\n",
       "      <td>801.00</td>\n",
       "      <td>932.000</td>\n",
       "      <td>968.00</td>\n",
       "      <td>1040.6000</td>\n",
       "      <td>1145.0</td>\n",
       "    </tr>\n",
       "    <tr>\n",
       "      <th>fineaggregate</th>\n",
       "      <td>824.0</td>\n",
       "      <td>772.107403</td>\n",
       "      <td>80.984717</td>\n",
       "      <td>594.00</td>\n",
       "      <td>726.775</td>\n",
       "      <td>778.50</td>\n",
       "      <td>821.2500</td>\n",
       "      <td>992.6</td>\n",
       "    </tr>\n",
       "    <tr>\n",
       "      <th>age</th>\n",
       "      <td>824.0</td>\n",
       "      <td>44.661408</td>\n",
       "      <td>60.475702</td>\n",
       "      <td>1.00</td>\n",
       "      <td>12.250</td>\n",
       "      <td>28.00</td>\n",
       "      <td>56.0000</td>\n",
       "      <td>365.0</td>\n",
       "    </tr>\n",
       "    <tr>\n",
       "      <th>csMPa</th>\n",
       "      <td>824.0</td>\n",
       "      <td>35.857864</td>\n",
       "      <td>16.865099</td>\n",
       "      <td>2.33</td>\n",
       "      <td>23.685</td>\n",
       "      <td>34.08</td>\n",
       "      <td>45.8625</td>\n",
       "      <td>82.6</td>\n",
       "    </tr>\n",
       "  </tbody>\n",
       "</table>\n",
       "</div>"
      ],
      "text/plain": [
       "                  count        mean         std     min      25%     50%  \\\n",
       "Id                824.0  513.847087  296.786779    0.00  251.750  513.50   \n",
       "cement            824.0  283.360801  107.536404  102.00  192.000  275.10   \n",
       "slag              824.0   74.371602   86.977784    0.00    0.000   22.00   \n",
       "flyash            824.0   53.160801   64.000646    0.00    0.000    0.00   \n",
       "water             824.0  181.797087   21.321905  121.80  164.900  185.35   \n",
       "superplasticizer  824.0    6.163956    5.967258    0.00    0.000    6.10   \n",
       "coarseaggregate   824.0  973.548544   78.694630  801.00  932.000  968.00   \n",
       "fineaggregate     824.0  772.107403   80.984717  594.00  726.775  778.50   \n",
       "age               824.0   44.661408   60.475702    1.00   12.250   28.00   \n",
       "csMPa             824.0   35.857864   16.865099    2.33   23.685   34.08   \n",
       "\n",
       "                        75%     max  \n",
       "Id                 770.2500  1028.0  \n",
       "cement             359.9000   540.0  \n",
       "slag               144.7750   359.4  \n",
       "flyash             118.3000   195.0  \n",
       "water              192.0000   247.0  \n",
       "superplasticizer    10.1250    32.2  \n",
       "coarseaggregate   1040.6000  1145.0  \n",
       "fineaggregate      821.2500   992.6  \n",
       "age                 56.0000   365.0  \n",
       "csMPa               45.8625    82.6  "
      ]
     },
     "execution_count": 8,
     "metadata": {},
     "output_type": "execute_result"
    }
   ],
   "source": [
    "train.describe().T"
   ]
  },
  {
   "cell_type": "code",
   "execution_count": 11,
   "id": "125ac79a",
   "metadata": {},
   "outputs": [
    {
     "data": {
      "image/png": "[encoded data removed]",
      "text/plain": [
       "<Figure size 1152x720 with 2 Axes>"
      ]
     },
     "metadata": {
      "needs_background": "light"
     },
     "output_type": "display_data"
    }
   ],
   "source": [
    "plt.figure(figsize=(16,10))\n",
    "sns.heatmap(train.corr(),annot=True)\n",
    "plt.show()"
   ]
  },
  {
   "cell_type": "code",
   "execution_count": 14,
   "id": "79fb8e9b",
   "metadata": {},
   "outputs": [
    {
     "name": "stdout",
     "output_type": "stream",
     "text": [
      "Column  Id    824\n",
      "Column  cement    254\n",
      "Column  slag    166\n",
      "Column  flyash    130\n",
      "Column  water    179\n",
      "Column  superplasticizer    105\n",
      "Column  coarseaggregate    258\n",
      "Column  fineaggregate    274\n",
      "Column  age    14\n",
      "Column  csMPa    701\n"
     ]
    }
   ],
   "source": [
    "for col in train.columns:\n",
    "    print('Column ',col,'  ',train[col].nunique())"
   ]
  },
  {
   "cell_type": "code",
   "execution_count": 15,
   "id": "84058496",
   "metadata": {},
   "outputs": [],
   "source": [
    "#Drop ID column\n",
    "train.drop(columns=['Id'],inplace=True)"
   ]
  },
  {
   "cell_type": "code",
   "execution_count": 17,
   "id": "ecfa10e7",
   "metadata": {},
   "outputs": [],
   "source": [
    "#Splitting data into X andy\n",
    "X=train.drop('csMPa',axis=1)\n",
    "y=train['csMPa']"
   ]
  },
  {
   "cell_type": "code",
   "execution_count": 18,
   "id": "e88a6a59",
   "metadata": {},
   "outputs": [],
   "source": [
    "X_train, X_test, y_train, y_test = train_test_split(X, y, test_size=0.20, random_state=101)"
   ]
  },
  {
   "cell_type": "code",
   "execution_count": 19,
   "id": "cf82fa83",
   "metadata": {},
   "outputs": [],
   "source": [
    "#Scaling the data\n",
    "ss=StandardScaler()\n",
    "X_train_scale=pd.DataFrame(ss.fit_transform(X_train),columns=X_train.columns)\n",
    "X_test_scale=pd.DataFrame(ss.fit_transform(X_test),columns=X_test.columns)"
   ]
  },
  {
   "cell_type": "code",
   "execution_count": 22,
   "id": "a2a2aae0",
   "metadata": {},
   "outputs": [],
   "source": [
    "models=[LinearRegression(),KNeighborsRegressor(),DecisionTreeRegressor(),RandomForestRegressor(),SVR()]"
   ]
  },
  {
   "cell_type": "code",
   "execution_count": 30,
   "id": "0ad96414",
   "metadata": {},
   "outputs": [
    {
     "data": {
      "text/html": [
       "<style type=\"text/css\">\n",
       "#T_d7fbd_row0_col1, #T_d7fbd_row1_col1, #T_d7fbd_row2_col1, #T_d7fbd_row3_col1, #T_d7fbd_row4_col1 {\n",
       "  background-color: #000000;\n",
       "  color: #f1f1f1;\n",
       "}\n",
       "</style>\n",
       "<table id=\"T_d7fbd_\">\n",
       "  <thead>\n",
       "    <tr>\n",
       "      <th class=\"blank level0\" >&nbsp;</th>\n",
       "      <th class=\"col_heading level0 col0\" >Model</th>\n",
       "      <th class=\"col_heading level0 col1\" >RMSE</th>\n",
       "    </tr>\n",
       "  </thead>\n",
       "  <tbody>\n",
       "    <tr>\n",
       "      <th id=\"T_d7fbd_level0_row0\" class=\"row_heading level0 row0\" >0</th>\n",
       "      <td id=\"T_d7fbd_row0_col0\" class=\"data row0 col0\" >LinearRegression</td>\n",
       "      <td id=\"T_d7fbd_row0_col1\" class=\"data row0 col1\" >nan</td>\n",
       "    </tr>\n",
       "    <tr>\n",
       "      <th id=\"T_d7fbd_level0_row1\" class=\"row_heading level0 row1\" >1</th>\n",
       "      <td id=\"T_d7fbd_row1_col0\" class=\"data row1 col0\" >KNeighborsRegressor</td>\n",
       "      <td id=\"T_d7fbd_row1_col1\" class=\"data row1 col1\" >nan</td>\n",
       "    </tr>\n",
       "    <tr>\n",
       "      <th id=\"T_d7fbd_level0_row2\" class=\"row_heading level0 row2\" >2</th>\n",
       "      <td id=\"T_d7fbd_row2_col0\" class=\"data row2 col0\" >DecisionTreeRegressor</td>\n",
       "      <td id=\"T_d7fbd_row2_col1\" class=\"data row2 col1\" >nan</td>\n",
       "    </tr>\n",
       "    <tr>\n",
       "      <th id=\"T_d7fbd_level0_row3\" class=\"row_heading level0 row3\" >3</th>\n",
       "      <td id=\"T_d7fbd_row3_col0\" class=\"data row3 col0\" >RandomForestRegressor</td>\n",
       "      <td id=\"T_d7fbd_row3_col1\" class=\"data row3 col1\" >nan</td>\n",
       "    </tr>\n",
       "    <tr>\n",
       "      <th id=\"T_d7fbd_level0_row4\" class=\"row_heading level0 row4\" >4</th>\n",
       "      <td id=\"T_d7fbd_row4_col0\" class=\"data row4 col0\" >SVR</td>\n",
       "      <td id=\"T_d7fbd_row4_col1\" class=\"data row4 col1\" >nan</td>\n",
       "    </tr>\n",
       "  </tbody>\n",
       "</table>\n"
      ],
      "text/plain": [
       "<pandas.io.formats.style.Styler at 0x1615554eac0>"
      ]
     },
     "execution_count": 30,
     "metadata": {},
     "output_type": "execute_result"
    }
   ],
   "source": [
    "rmse = []\n",
    "for model in models:\n",
    "    cv = cross_val_score(model, X_train_scale, y_train, scoring='neg_mean_squared_error', cv=10).mean()\n",
    "    rmse.append(np.sqrt(cv))\n",
    "    \n",
    "modelname = ['LinearRegression','KNeighborsRegressor','DecisionTreeRegressor','RandomForestRegressor','SVR']\n",
    "\n",
    "score = pd.DataFrame({'Model': modelname, 'RMSE': rmse})\n",
    "score.style.background_gradient(high=1,axis=0)"
   ]
  },
  {
   "cell_type": "code",
   "execution_count": 32,
   "id": "e6819298",
   "metadata": {},
   "outputs": [],
   "source": [
    "lr=LinearRegression()\n",
    "lr.fit(X_train_scale,y_train)\n",
    "lr_pred=lr.predict(X_test_scale)"
   ]
  },
  {
   "cell_type": "code",
   "execution_count": 33,
   "id": "80ebbaa6",
   "metadata": {},
   "outputs": [
    {
     "data": {
      "text/plain": [
       "<AxesSubplot:xlabel='csMPa'>"
      ]
     },
     "execution_count": 33,
     "metadata": {},
     "output_type": "execute_result"
    },
    {
     "data": {
      "image/png": "[encoded data removed]",
      "text/plain": [
       "<Figure size 432x288 with 1 Axes>"
      ]
     },
     "metadata": {
      "needs_background": "light"
     },
     "output_type": "display_data"
    }
   ],
   "source": [
    "sns.regplot(y_test,lr_pred)"
   ]
  },
  {
   "cell_type": "code",
   "execution_count": 37,
   "id": "4e64f8f1",
   "metadata": {},
   "outputs": [
    {
     "name": "stdout",
     "output_type": "stream",
     "text": [
      "MAE is 8.482702654472687\n",
      "MSE for test set is 108.116250815065\n",
      "RMSE for test set is 10.397896461066777\n",
      "R2 score for test set is 0.6289269601941523\n",
      "Adjusted R2 score for test set is 0.6098975735374421\n"
     ]
    }
   ],
   "source": [
    "MAE = metrics.mean_absolute_error(y_test, lr_pred)   \n",
    "print('MAE is {}'.format(MAE))\n",
    "\n",
    "MSE = metrics.mean_squared_error(y_test, lr_pred)\n",
    "print('MSE for test set is {}'.format(MSE))\n",
    "\n",
    "RMSE = np.sqrt(metrics.mean_squared_error(y_test, lr_pred))\n",
    "print('RMSE for test set is {}'.format(RMSE))\n",
    "\n",
    "r2 = metrics.r2_score(y_test,lr_pred)\n",
    "print(\"R2 score for test set is {}\".format(r2))\n",
    "\n",
    "adj_r_squared = 1 - (1-r2)*(len(y_test)-1)/(len(y_test)-X_test.shape[1]-1)\n",
    "print(\"Adjusted R2 score for test set is {}\".format(adj_r_squared))"
   ]
  },
  {
   "cell_type": "code",
   "execution_count": 38,
   "id": "4d61196b",
   "metadata": {},
   "outputs": [],
   "source": [
    "dt=DecisionTreeRegressor()\n",
    "dt.fit(X_train_scale,y_train)\n",
    "dt_pred=dt.predict(X_test_scale)"
   ]
  },
  {
   "cell_type": "code",
   "execution_count": 39,
   "id": "e2957f9c",
   "metadata": {},
   "outputs": [
    {
     "data": {
      "text/plain": [
       "<AxesSubplot:xlabel='csMPa'>"
      ]
     },
     "execution_count": 39,
     "metadata": {},
     "output_type": "execute_result"
    },
    {
     "data": {
      "image/png": "[encoded data removed]",
      "text/plain": [
       "<Figure size 432x288 with 1 Axes>"
      ]
     },
     "metadata": {
      "needs_background": "light"
     },
     "output_type": "display_data"
    }
   ],
   "source": [
    "sns.regplot(y_test,dt_pred)"
   ]
  },
  {
   "cell_type": "code",
   "execution_count": 40,
   "id": "66b2a935",
   "metadata": {},
   "outputs": [
    {
     "name": "stdout",
     "output_type": "stream",
     "text": [
      "MAE is 6.290424242424243\n",
      "MSE for test set is 84.05713727272727\n",
      "RMSE for test set is 9.168267953802793\n",
      "R2 score for test set is 0.7115018583235767\n",
      "Adjusted R2 score for test set is 0.6967070818273499\n"
     ]
    }
   ],
   "source": [
    "MAE = metrics.mean_absolute_error(y_test, dt_pred)   \n",
    "print('MAE is {}'.format(MAE))\n",
    "\n",
    "MSE = metrics.mean_squared_error(y_test, dt_pred)\n",
    "print('MSE for test set is {}'.format(MSE))\n",
    "\n",
    "RMSE = np.sqrt(metrics.mean_squared_error(y_test, dt_pred))\n",
    "print('RMSE for test set is {}'.format(RMSE))\n",
    "\n",
    "r2 = metrics.r2_score(y_test,dt_pred)\n",
    "print(\"R2 score for test set is {}\".format(r2))\n",
    "\n",
    "adj_r_squared = 1 - (1-r2)*(len(y_test)-1)/(len(y_test)-X_test.shape[1]-1)\n",
    "print(\"Adjusted R2 score for test set is {}\".format(adj_r_squared))"
   ]
  },
  {
   "cell_type": "code",
   "execution_count": 41,
   "id": "ae73d63f",
   "metadata": {},
   "outputs": [],
   "source": [
    "rf=RandomForestRegressor()\n",
    "rf.fit(X_train_scale,y_train)\n",
    "rf_pred=rf.predict(X_test_scale)"
   ]
  },
  {
   "cell_type": "code",
   "execution_count": 42,
   "id": "f6e265c2",
   "metadata": {},
   "outputs": [
    {
     "data": {
      "text/plain": [
       "<AxesSubplot:xlabel='csMPa'>"
      ]
     },
     "execution_count": 42,
     "metadata": {},
     "output_type": "execute_result"
    },
    {
     "data": {
      "image/png": "[encoded data removed]",
      "text/plain": [
       "<Figure size 432x288 with 1 Axes>"
      ]
     },
     "metadata": {
      "needs_background": "light"
     },
     "output_type": "display_data"
    }
   ],
   "source": [
    "sns.regplot(y_test,rf_pred)"
   ]
  },
  {
   "cell_type": "code",
   "execution_count": 43,
   "id": "c132712e",
   "metadata": {},
   "outputs": [
    {
     "name": "stdout",
     "output_type": "stream",
     "text": [
      "MAE is 4.495509357864358\n",
      "MSE for test set is 34.89270751004095\n",
      "RMSE for test set is 5.907004952600002\n",
      "R2 score for test set is 0.8802423970014036\n",
      "Adjusted R2 score for test set is 0.8741009814630141\n"
     ]
    }
   ],
   "source": [
    "MAE = metrics.mean_absolute_error(y_test, rf_pred)   \n",
    "print('MAE is {}'.format(MAE))\n",
    "\n",
    "MSE = metrics.mean_squared_error(y_test, rf_pred)\n",
    "print('MSE for test set is {}'.format(MSE))\n",
    "\n",
    "RMSE = np.sqrt(metrics.mean_squared_error(y_test, rf_pred))\n",
    "print('RMSE for test set is {}'.format(RMSE))\n",
    "\n",
    "r2 = metrics.r2_score(y_test,rf_pred)\n",
    "print(\"R2 score for test set is {}\".format(r2))\n",
    "\n",
    "adj_r_squared = 1 - (1-r2)*(len(y_test)-1)/(len(y_test)-X_test.shape[1]-1)\n",
    "print(\"Adjusted R2 score for test set is {}\".format(adj_r_squared))"
   ]
  },
  {
   "cell_type": "code",
   "execution_count": 44,
   "id": "0bbff944",
   "metadata": {},
   "outputs": [],
   "source": [
    "knn=KNeighborsRegressor()\n",
    "knn.fit(X_train_scale,y_train)\n",
    "knn_pred=knn.predict(X_test_scale)"
   ]
  },
  {
   "cell_type": "code",
   "execution_count": 45,
   "id": "75cb334c",
   "metadata": {},
   "outputs": [
    {
     "data": {
      "text/plain": [
       "<AxesSubplot:xlabel='csMPa'>"
      ]
     },
     "execution_count": 45,
     "metadata": {},
     "output_type": "execute_result"
    },
    {
     "data": {
      "image/png": "[encoded data removed]",
      "text/plain": [
       "<Figure size 432x288 with 1 Axes>"
      ]
     },
     "metadata": {
      "needs_background": "light"
     },
     "output_type": "display_data"
    }
   ],
   "source": [
    "sns.regplot(y_test,knn_pred)"
   ]
  },
  {
   "cell_type": "code",
   "execution_count": 46,
   "id": "cdbd2aa4",
   "metadata": {},
   "outputs": [
    {
     "name": "stdout",
     "output_type": "stream",
     "text": [
      "MAE is 7.293830303030303\n",
      "MSE for test set is 95.07897466666667\n",
      "RMSE for test set is 9.750844818099951\n",
      "R2 score for test set is 0.6736730705587224\n",
      "Adjusted R2 score for test set is 0.6569383562284005\n"
     ]
    }
   ],
   "source": [
    "MAE = metrics.mean_absolute_error(y_test, knn_pred)   \n",
    "print('MAE is {}'.format(MAE))\n",
    "\n",
    "MSE = metrics.mean_squared_error(y_test, knn_pred)\n",
    "print('MSE for test set is {}'.format(MSE))\n",
    "\n",
    "RMSE = np.sqrt(metrics.mean_squared_error(y_test, knn_pred))\n",
    "print('RMSE for test set is {}'.format(RMSE))\n",
    "\n",
    "r2 = metrics.r2_score(y_test,knn_pred)\n",
    "print(\"R2 score for test set is {}\".format(r2))\n",
    "\n",
    "adj_r_squared = 1 - (1-r2)*(len(y_test)-1)/(len(y_test)-X_test.shape[1]-1)\n",
    "print(\"Adjusted R2 score for test set is {}\".format(adj_r_squared))"
   ]
  },
  {
   "cell_type": "code",
   "execution_count": 47,
   "id": "f1646d3e",
   "metadata": {},
   "outputs": [],
   "source": [
    "svr=SVR()\n",
    "svr.fit(X_train_scale,y_train)\n",
    "svr_pred=svr.predict(X_test_scale)"
   ]
  },
  {
   "cell_type": "code",
   "execution_count": 48,
   "id": "ac201c1c",
   "metadata": {},
   "outputs": [
    {
     "data": {
      "text/plain": [
       "<AxesSubplot:xlabel='csMPa'>"
      ]
     },
     "execution_count": 48,
     "metadata": {},
     "output_type": "execute_result"
    },
    {
     "data": {
      "image/png": "[encoded data removed]",
      "text/plain": [
       "<Figure size 432x288 with 1 Axes>"
      ]
     },
     "metadata": {
      "needs_background": "light"
     },
     "output_type": "display_data"
    }
   ],
   "source": [
    "sns.regplot(y_test,svr_pred)"
   ]
  },
  {
   "cell_type": "code",
   "execution_count": 49,
   "id": "1e24295b",
   "metadata": {},
   "outputs": [
    {
     "name": "stdout",
     "output_type": "stream",
     "text": [
      "MAE is 8.347167914872353\n",
      "MSE for test set is 111.99548536779052\n",
      "RMSE for test set is 10.582791945785882\n",
      "R2 score for test set is 0.6156127789610091\n",
      "Adjusted R2 score for test set is 0.5959006137795224\n"
     ]
    }
   ],
   "source": [
    "MAE = metrics.mean_absolute_error(y_test, svr_pred)   \n",
    "print('MAE is {}'.format(MAE))\n",
    "\n",
    "MSE = metrics.mean_squared_error(y_test, svr_pred)\n",
    "print('MSE for test set is {}'.format(MSE))\n",
    "\n",
    "RMSE = np.sqrt(metrics.mean_squared_error(y_test, svr_pred))\n",
    "print('RMSE for test set is {}'.format(RMSE))\n",
    "\n",
    "r2 = metrics.r2_score(y_test,svr_pred)\n",
    "print(\"R2 score for test set is {}\".format(r2))\n",
    "\n",
    "adj_r_squared = 1 - (1-r2)*(len(y_test)-1)/(len(y_test)-X_test.shape[1]-1)\n",
    "print(\"Adjusted R2 score for test set is {}\".format(adj_r_squared))"
   ]
  },
  {
   "cell_type": "markdown",
   "id": "ee03ad69",
   "metadata": {},
   "source": [
    "#### Among all models RandomForestRegressor gave best RMSE value. Let me try with RandomizedSearchCV"
   ]
  },
  {
   "cell_type": "code",
   "execution_count": 50,
   "id": "e78c6f9b",
   "metadata": {},
   "outputs": [],
   "source": [
    "from sklearn.model_selection import RandomizedSearchCV\n",
    "#Number of trees in random forest\n",
    "n_estimators = [int(x) for x in np.linspace(start = 100, stop = 500, num = 5)]\n",
    "\n",
    "# Number of features to consider at every split\n",
    "max_features = ['auto', 'sqrt']\n",
    "\n",
    "# Maximum number of levels in tree\n",
    "max_depth = [int(x) for x in np.linspace(5, 30, num = 6)]\n",
    "\n",
    "# Minimum number of samples required to split a node\n",
    "min_samples_split = [2, 5, 10, 15, 100]\n",
    "\n",
    "# Minimum number of samples required at each leaf node\n",
    "min_samples_leaf = [1, 2, 5, 10]\n",
    "\n",
    "# Method of selecting samples for training each tree\n",
    "# Create the random grid\n",
    "random_grid = {'n_estimators': n_estimators,\n",
    "'max_features': max_features,\n",
    "'max_depth': max_depth,\n",
    "'min_samples_split': min_samples_split,\n",
    "'min_samples_leaf': min_samples_leaf\n",
    "}"
   ]
  },
  {
   "cell_type": "code",
   "execution_count": 52,
   "id": "eb1215d7",
   "metadata": {},
   "outputs": [
    {
     "data": {
      "text/plain": [
       "RandomizedSearchCV(cv=5, estimator=RandomForestRegressor(), n_jobs=-1,\n",
       "                   param_distributions={'max_depth': [5, 10, 15, 20, 25, 30],\n",
       "                                        'max_features': ['auto', 'sqrt'],\n",
       "                                        'min_samples_leaf': [1, 2, 5, 10],\n",
       "                                        'min_samples_split': [2, 5, 10, 15,\n",
       "                                                              100],\n",
       "                                        'n_estimators': [100, 200, 300, 400,\n",
       "                                                         500]})"
      ]
     },
     "execution_count": 52,
     "metadata": {},
     "output_type": "execute_result"
    }
   ],
   "source": [
    "rf_randomcv=RandomizedSearchCV(estimator=rf,param_distributions=random_grid, cv=5, n_iter=10,n_jobs=-1)\n",
    "### fit the randomized model\n",
    "rf_randomcv.fit(X_train_scale,y_train)"
   ]
  },
  {
   "cell_type": "code",
   "execution_count": 53,
   "id": "e3262e2d",
   "metadata": {},
   "outputs": [
    {
     "name": "stdout",
     "output_type": "stream",
     "text": [
      "RandomForestRegressor(max_depth=10, min_samples_split=10, n_estimators=400)\n"
     ]
    }
   ],
   "source": [
    "# Display the best estimator\n",
    "print(rf_randomcv.best_estimator_)"
   ]
  },
  {
   "cell_type": "code",
   "execution_count": 54,
   "id": "a2645c20",
   "metadata": {},
   "outputs": [
    {
     "name": "stdout",
     "output_type": "stream",
     "text": [
      "0.8664433665826146\n"
     ]
    }
   ],
   "source": [
    "# Display the best score\n",
    "print(rf_randomcv.best_score_)"
   ]
  },
  {
   "cell_type": "code",
   "execution_count": 55,
   "id": "093ba814",
   "metadata": {},
   "outputs": [],
   "source": [
    "best_random_grid=rf_randomcv.best_estimator_"
   ]
  },
  {
   "cell_type": "code",
   "execution_count": 56,
   "id": "f3b6a9ce",
   "metadata": {},
   "outputs": [],
   "source": [
    "from sklearn.metrics import accuracy_score\n",
    "rf_rscv_pred=best_random_grid.predict(X_test_scale)"
   ]
  },
  {
   "cell_type": "code",
   "execution_count": 57,
   "id": "bb0a2579",
   "metadata": {},
   "outputs": [
    {
     "data": {
      "text/plain": [
       "<AxesSubplot:xlabel='csMPa'>"
      ]
     },
     "execution_count": 57,
     "metadata": {},
     "output_type": "execute_result"
    },
    {
     "data": {
      "image/png": "[encoded data removed]",
      "text/plain": [
       "<Figure size 432x288 with 1 Axes>"
      ]
     },
     "metadata": {
      "needs_background": "light"
     },
     "output_type": "display_data"
    }
   ],
   "source": [
    "sns.regplot(y_test,rf_rscv_pred)"
   ]
  },
  {
   "cell_type": "code",
   "execution_count": 58,
   "id": "a31051e2",
   "metadata": {},
   "outputs": [
    {
     "name": "stdout",
     "output_type": "stream",
     "text": [
      "MAE is 4.888327279171193\n",
      "MSE for test set is 38.68098017283866\n",
      "RMSE for test set is 6.21940352227114\n",
      "R2 score for test set is 0.8672404121748833\n",
      "Adjusted R2 score for test set is 0.8604322281838517\n"
     ]
    }
   ],
   "source": [
    "MAE = metrics.mean_absolute_error(y_test, rf_rscv_pred)   \n",
    "print('MAE is {}'.format(MAE))\n",
    "\n",
    "MSE = metrics.mean_squared_error(y_test, rf_rscv_pred)\n",
    "print('MSE for test set is {}'.format(MSE))\n",
    "\n",
    "RMSE = np.sqrt(metrics.mean_squared_error(y_test, rf_rscv_pred))\n",
    "print('RMSE for test set is {}'.format(RMSE))\n",
    "\n",
    "r2 = metrics.r2_score(y_test,rf_rscv_pred)\n",
    "print(\"R2 score for test set is {}\".format(r2))\n",
    "\n",
    "adj_r_squared = 1 - (1-r2)*(len(y_test)-1)/(len(y_test)-X_test.shape[1]-1)\n",
    "print(\"Adjusted R2 score for test set is {}\".format(adj_r_squared))"
   ]
  },
  {
   "cell_type": "markdown",
   "id": "a2e524ad",
   "metadata": {},
   "source": [
    "#### RandomForestRegressor gave best RMSE so, proceeding to predect the test data with RandomForestRegressor"
   ]
  },
  {
   "cell_type": "code",
   "execution_count": 59,
   "id": "7ff3f33a",
   "metadata": {},
   "outputs": [
    {
     "data": {
      "text/html": [
       "<div>\n",
       "<style scoped>\n",
       "    .dataframe tbody tr th:only-of-type {\n",
       "        vertical-align: middle;\n",
       "    }\n",
       "\n",
       "    .dataframe tbody tr th {\n",
       "        vertical-align: top;\n",
       "    }\n",
       "\n",
       "    .dataframe thead th {\n",
       "        text-align: right;\n",
       "    }\n",
       "</style>\n",
       "<table border=\"1\" class=\"dataframe\">\n",
       "  <thead>\n",
       "    <tr style=\"text-align: right;\">\n",
       "      <th></th>\n",
       "      <th>Id</th>\n",
       "      <th>cement</th>\n",
       "      <th>slag</th>\n",
       "      <th>flyash</th>\n",
       "      <th>water</th>\n",
       "      <th>superplasticizer</th>\n",
       "      <th>coarseaggregate</th>\n",
       "      <th>fineaggregate</th>\n",
       "      <th>age</th>\n",
       "    </tr>\n",
       "  </thead>\n",
       "  <tbody>\n",
       "    <tr>\n",
       "      <th>0</th>\n",
       "      <td>31</td>\n",
       "      <td>266.0</td>\n",
       "      <td>114.0</td>\n",
       "      <td>0.0</td>\n",
       "      <td>228.0</td>\n",
       "      <td>0.0</td>\n",
       "      <td>932.0</td>\n",
       "      <td>670.0</td>\n",
       "      <td>365</td>\n",
       "    </tr>\n",
       "    <tr>\n",
       "      <th>1</th>\n",
       "      <td>109</td>\n",
       "      <td>362.6</td>\n",
       "      <td>189.0</td>\n",
       "      <td>0.0</td>\n",
       "      <td>164.9</td>\n",
       "      <td>11.6</td>\n",
       "      <td>944.7</td>\n",
       "      <td>755.8</td>\n",
       "      <td>7</td>\n",
       "    </tr>\n",
       "    <tr>\n",
       "      <th>2</th>\n",
       "      <td>136</td>\n",
       "      <td>389.9</td>\n",
       "      <td>189.0</td>\n",
       "      <td>0.0</td>\n",
       "      <td>145.9</td>\n",
       "      <td>22.0</td>\n",
       "      <td>944.7</td>\n",
       "      <td>755.8</td>\n",
       "      <td>28</td>\n",
       "    </tr>\n",
       "    <tr>\n",
       "      <th>3</th>\n",
       "      <td>88</td>\n",
       "      <td>362.6</td>\n",
       "      <td>189.0</td>\n",
       "      <td>0.0</td>\n",
       "      <td>164.9</td>\n",
       "      <td>11.6</td>\n",
       "      <td>944.7</td>\n",
       "      <td>755.8</td>\n",
       "      <td>3</td>\n",
       "    </tr>\n",
       "    <tr>\n",
       "      <th>4</th>\n",
       "      <td>918</td>\n",
       "      <td>145.0</td>\n",
       "      <td>0.0</td>\n",
       "      <td>179.0</td>\n",
       "      <td>202.0</td>\n",
       "      <td>8.0</td>\n",
       "      <td>824.0</td>\n",
       "      <td>869.0</td>\n",
       "      <td>28</td>\n",
       "    </tr>\n",
       "  </tbody>\n",
       "</table>\n",
       "</div>"
      ],
      "text/plain": [
       "    Id  cement   slag  flyash  water  superplasticizer  coarseaggregate  \\\n",
       "0   31   266.0  114.0     0.0  228.0               0.0            932.0   \n",
       "1  109   362.6  189.0     0.0  164.9              11.6            944.7   \n",
       "2  136   389.9  189.0     0.0  145.9              22.0            944.7   \n",
       "3   88   362.6  189.0     0.0  164.9              11.6            944.7   \n",
       "4  918   145.0    0.0   179.0  202.0               8.0            824.0   \n",
       "\n",
       "   fineaggregate  age  \n",
       "0          670.0  365  \n",
       "1          755.8    7  \n",
       "2          755.8   28  \n",
       "3          755.8    3  \n",
       "4          869.0   28  "
      ]
     },
     "execution_count": 59,
     "metadata": {},
     "output_type": "execute_result"
    }
   ],
   "source": [
    "test=pd.read_csv('concrete_test.csv')\n",
    "test.head()"
   ]
  },
  {
   "cell_type": "code",
   "execution_count": 62,
   "id": "08eb1d0b",
   "metadata": {},
   "outputs": [],
   "source": [
    "test.drop('Id',axis=1,inplace=True)"
   ]
  },
  {
   "cell_type": "code",
   "execution_count": 63,
   "id": "2738ad20",
   "metadata": {},
   "outputs": [],
   "source": [
    "#Scaling the data\n",
    "test_scale=pd.DataFrame(ss.fit_transform(test),columns=test.columns)"
   ]
  },
  {
   "cell_type": "code",
   "execution_count": 68,
   "id": "0aabfe30",
   "metadata": {},
   "outputs": [
    {
     "data": {
      "text/plain": [
       "(206, 8)"
      ]
     },
     "execution_count": 68,
     "metadata": {},
     "output_type": "execute_result"
    }
   ],
   "source": [
    "test.shape"
   ]
  },
  {
   "cell_type": "code",
   "execution_count": 64,
   "id": "188dafe0",
   "metadata": {
    "scrolled": true
   },
   "outputs": [
    {
     "data": {
      "text/html": [
       "<div>\n",
       "<style scoped>\n",
       "    .dataframe tbody tr th:only-of-type {\n",
       "        vertical-align: middle;\n",
       "    }\n",
       "\n",
       "    .dataframe tbody tr th {\n",
       "        vertical-align: top;\n",
       "    }\n",
       "\n",
       "    .dataframe thead th {\n",
       "        text-align: right;\n",
       "    }\n",
       "</style>\n",
       "<table border=\"1\" class=\"dataframe\">\n",
       "  <thead>\n",
       "    <tr style=\"text-align: right;\">\n",
       "      <th></th>\n",
       "      <th>cement</th>\n",
       "      <th>slag</th>\n",
       "      <th>flyash</th>\n",
       "      <th>water</th>\n",
       "      <th>superplasticizer</th>\n",
       "      <th>coarseaggregate</th>\n",
       "      <th>fineaggregate</th>\n",
       "      <th>age</th>\n",
       "    </tr>\n",
       "  </thead>\n",
       "  <tbody>\n",
       "    <tr>\n",
       "      <th>0</th>\n",
       "      <td>-0.070383</td>\n",
       "      <td>0.503663</td>\n",
       "      <td>-0.913524</td>\n",
       "      <td>2.206702</td>\n",
       "      <td>-1.061722</td>\n",
       "      <td>-0.520172</td>\n",
       "      <td>-1.429574</td>\n",
       "      <td>4.330927</td>\n",
       "    </tr>\n",
       "    <tr>\n",
       "      <th>1</th>\n",
       "      <td>0.992599</td>\n",
       "      <td>1.402906</td>\n",
       "      <td>-0.913524</td>\n",
       "      <td>-0.733893</td>\n",
       "      <td>0.872479</td>\n",
       "      <td>-0.348138</td>\n",
       "      <td>-0.309136</td>\n",
       "      <td>-0.585978</td>\n",
       "    </tr>\n",
       "    <tr>\n",
       "      <th>2</th>\n",
       "      <td>1.293007</td>\n",
       "      <td>1.402906</td>\n",
       "      <td>-0.913524</td>\n",
       "      <td>-1.619334</td>\n",
       "      <td>2.606589</td>\n",
       "      <td>-0.348138</td>\n",
       "      <td>-0.309136</td>\n",
       "      <td>-0.297556</td>\n",
       "    </tr>\n",
       "    <tr>\n",
       "      <th>3</th>\n",
       "      <td>0.992599</td>\n",
       "      <td>1.402906</td>\n",
       "      <td>-0.913524</td>\n",
       "      <td>-0.733893</td>\n",
       "      <td>0.872479</td>\n",
       "      <td>-0.348138</td>\n",
       "      <td>-0.309136</td>\n",
       "      <td>-0.640915</td>\n",
       "    </tr>\n",
       "    <tr>\n",
       "      <th>4</th>\n",
       "      <td>-1.401861</td>\n",
       "      <td>-0.863186</td>\n",
       "      <td>1.891362</td>\n",
       "      <td>0.995046</td>\n",
       "      <td>0.272209</td>\n",
       "      <td>-1.983136</td>\n",
       "      <td>1.169109</td>\n",
       "      <td>-0.297556</td>\n",
       "    </tr>\n",
       "  </tbody>\n",
       "</table>\n",
       "</div>"
      ],
      "text/plain": [
       "     cement      slag    flyash     water  superplasticizer  coarseaggregate  \\\n",
       "0 -0.070383  0.503663 -0.913524  2.206702         -1.061722        -0.520172   \n",
       "1  0.992599  1.402906 -0.913524 -0.733893          0.872479        -0.348138   \n",
       "2  1.293007  1.402906 -0.913524 -1.619334          2.606589        -0.348138   \n",
       "3  0.992599  1.402906 -0.913524 -0.733893          0.872479        -0.348138   \n",
       "4 -1.401861 -0.863186  1.891362  0.995046          0.272209        -1.983136   \n",
       "\n",
       "   fineaggregate       age  \n",
       "0      -1.429574  4.330927  \n",
       "1      -0.309136 -0.585978  \n",
       "2      -0.309136 -0.297556  \n",
       "3      -0.309136 -0.640915  \n",
       "4       1.169109 -0.297556  "
      ]
     },
     "execution_count": 64,
     "metadata": {},
     "output_type": "execute_result"
    }
   ],
   "source": [
    "test_scale.head()"
   ]
  },
  {
   "cell_type": "code",
   "execution_count": 65,
   "id": "888baade",
   "metadata": {},
   "outputs": [],
   "source": [
    "predictions=rf.predict(test_scale)"
   ]
  },
  {
   "cell_type": "code",
   "execution_count": 66,
   "id": "bc7f6d5c",
   "metadata": {},
   "outputs": [],
   "source": [
    "predictions= pd.DataFrame(predictions, columns=['predictions']).to_csv('predictions.csv',index=False,header=False)"
   ]
  },
  {
   "cell_type": "code",
   "execution_count": null,
   "id": "fec46aa1",
   "metadata": {},
   "outputs": [],
   "source": []
  }
 ],
 "metadata": {
  "kernelspec": {
   "display_name": "Python 3 (ipykernel)",
   "language": "python",
   "name": "python3"
  },
  "language_info": {
   "codemirror_mode": {
    "name": "ipython",
    "version": 3
   },
   "file_extension": ".py",
   "mimetype": "text/x-python",
   "name": "python",
   "nbconvert_exporter": "python",
   "pygments_lexer": "ipython3",
   "version": "3.8.12"
  }
 },
 "nbformat": 4,
 "nbformat_minor": 5
}
